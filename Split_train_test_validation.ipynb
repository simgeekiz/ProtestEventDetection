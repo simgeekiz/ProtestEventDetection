{
 "cells": [
  {
   "cell_type": "code",
   "execution_count": 74,
   "metadata": {},
   "outputs": [],
   "source": [
    "import numpy as np\n",
    "import pandas as pd\n",
    "from sklearn.feature_selection import SelectPercentile, chi2\n",
    "from sklearn.pipeline import Pipeline\n",
    "from sklearn.metrics import classification_report\n",
    "from sklearn.model_selection import StratifiedKFold, RepeatedStratifiedKFold, train_test_split\n",
    "import os"
   ]
  },
  {
   "cell_type": "markdown",
   "metadata": {},
   "source": [
    "## Load Data"
   ]
  },
  {
   "cell_type": "code",
   "execution_count": 2,
   "metadata": {},
   "outputs": [],
   "source": [
    "df = pd.read_excel('Data/20181001-newindianexpress_sentence_classification_adjudicated_20181218.xlsx')"
   ]
  },
  {
   "cell_type": "code",
   "execution_count": 3,
   "metadata": {},
   "outputs": [],
   "source": [
    "df = df[np.logical_not(np.isnan(np.array(df['label'])))]"
   ]
  },
  {
   "cell_type": "code",
   "execution_count": 4,
   "metadata": {},
   "outputs": [],
   "source": [
    "y = np.array(df['label'])"
   ]
  },
  {
   "cell_type": "code",
   "execution_count": 37,
   "metadata": {},
   "outputs": [
    {
     "data": {
      "text/plain": [
       "list"
      ]
     },
     "execution_count": 37,
     "metadata": {},
     "output_type": "execute_result"
    }
   ],
   "source": [
    "type(X.tolist())"
   ]
  },
  {
   "cell_type": "code",
   "execution_count": 42,
   "metadata": {},
   "outputs": [],
   "source": [
    "X = np.array(df['sentence'])"
   ]
  },
  {
   "cell_type": "code",
   "execution_count": 53,
   "metadata": {},
   "outputs": [],
   "source": [
    "skf = StratifiedKFold(n_splits=5, shuffle=True, random_state=42)"
   ]
  },
  {
   "cell_type": "code",
   "execution_count": 114,
   "metadata": {},
   "outputs": [],
   "source": [
    "def split_data(X, y):\n",
    "    bat_folder = './Batches'\n",
    "    if not os.path.exists(bat_folder):\n",
    "        os.makedirs(bat_folder)\n",
    "    batch={}\n",
    "    i=0\n",
    "    for train_index, test_index in skf.split(X, y):\n",
    "        batch[i] = {}\n",
    "        print(\"TRAIN:\", len(train_index), \"TEST:\", len(test_index))\n",
    "\n",
    "        X_tra, X_test = X[train_index], X[test_index]\n",
    "        y_tra, y_test = y[train_index], y[test_index]\n",
    " \n",
    "        X_train, X_validation, y_train, y_validation = train_test_split(X_tra, y_tra, test_size=0.20, random_state=42, stratify=y_tra)\n",
    "       \n",
    "        batch_num = os.path.join(bat_folder, \"Batch_{}\".format(i+1))\n",
    "        if not os.path.exists(batch_num):\n",
    "            os.makedirs(batch_num)\n",
    "        train_folder_name = os.path.join(batch_num, \"train_{}.csv\".format(i+1))\n",
    "        validation_folder_name = os.path.join(batch_num, \"validation_{}.csv\".format(i+1))\n",
    "        test_folder_name = os.path.join(batch_num, \"test_{}.csv\".format(i+1))\n",
    "        train_df = pd.DataFrame(data={'sentence': X_train, 'label': np.array(y_train, dtype=int)})\n",
    "        validation_df = pd.DataFrame({'sentence': X_validation, 'label': np.array(y_validation, dtype=int)})\n",
    "        test_df = pd.DataFrame({'sentence': X_test, 'label': np.array(y_test, dtype=int)})\n",
    "        \n",
    "        train_df.to_csv(train_folder_name, index = None, header=True)\n",
    "        validation_df.to_csv(validation_folder_name, index = None, header=True)\n",
    "        test_df.to_csv(test_folder_name, index = None, header=True)\n",
    "\n",
    "        batch[i]['X_train']=X_train\n",
    "        batch[i]['y_train']=y_train\n",
    "        batch[i]['X_validation']=X_validation\n",
    "        batch[i]['y_validation']=y_validation\n",
    "        batch[i]['X_test']=X_test\n",
    "        batch[i]['y_test']=y_test\n",
    "        i=i+1\n",
    "\n",
    "    return batch"
   ]
  },
  {
   "cell_type": "code",
   "execution_count": 115,
   "metadata": {},
   "outputs": [
    {
     "name": "stdout",
     "output_type": "stream",
     "text": [
      "TRAIN: 6668 TEST: 1669\n",
      "TRAIN: 6669 TEST: 1668\n",
      "TRAIN: 6670 TEST: 1667\n",
      "TRAIN: 6670 TEST: 1667\n",
      "TRAIN: 6671 TEST: 1666\n"
     ]
    }
   ],
   "source": [
    "data = split_data(X, y)"
   ]
  },
  {
   "cell_type": "code",
   "execution_count": null,
   "metadata": {},
   "outputs": [],
   "source": []
  },
  {
   "cell_type": "code",
   "execution_count": 117,
   "metadata": {},
   "outputs": [],
   "source": [
    "hede = pd.read_csv('Batches/Batch_1/test_1.csv')"
   ]
  },
  {
   "cell_type": "code",
   "execution_count": null,
   "metadata": {},
   "outputs": [],
   "source": []
  },
  {
   "cell_type": "code",
   "execution_count": null,
   "metadata": {},
   "outputs": [],
   "source": []
  }
 ],
 "metadata": {
  "kernelspec": {
   "display_name": "Python 3",
   "language": "python",
   "name": "python3"
  },
  "language_info": {
   "codemirror_mode": {
    "name": "ipython",
    "version": 3
   },
   "file_extension": ".py",
   "mimetype": "text/x-python",
   "name": "python",
   "nbconvert_exporter": "python",
   "pygments_lexer": "ipython3",
   "version": "3.5.5"
  }
 },
 "nbformat": 4,
 "nbformat_minor": 2
}
